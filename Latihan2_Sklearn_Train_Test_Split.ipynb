{
  "nbformat": 4,
  "nbformat_minor": 0,
  "metadata": {
    "colab": {
      "provenance": [],
      "include_colab_link": true
    },
    "kernelspec": {
      "name": "python3",
      "display_name": "Python 3"
    }
  },
  "cells": [
    {
      "cell_type": "markdown",
      "metadata": {
        "id": "view-in-github",
        "colab_type": "text"
      },
      "source": [
        "<a href=\"https://colab.research.google.com/github/zakariarafi/Intro-to-Java-Programming/blob/master/Latihan2_Sklearn_Train_Test_Split.ipynb\" target=\"_parent\"><img src=\"https://colab.research.google.com/assets/colab-badge.svg\" alt=\"Open In Colab\"/></a>"
      ]
    },
    {
      "cell_type": "code",
      "metadata": {
        "id": "TAHXBKGZakx7"
      },
      "source": [
        "import sklearn\n",
        "from sklearn import datasets"
      ],
      "execution_count": null,
      "outputs": []
    },
    {
      "cell_type": "code",
      "metadata": {
        "id": "OCVri9w1a3FC"
      },
      "source": [
        "# load iris dataset\n",
        "iris = datasets.load_iris()"
      ],
      "execution_count": null,
      "outputs": []
    },
    {
      "cell_type": "code",
      "metadata": {
        "id": "YQQNNyaDa3qr"
      },
      "source": [
        "# pisahkan atribut dan label pada iris dataset\n",
        "x=iris.data\n",
        "y=iris.target"
      ],
      "execution_count": null,
      "outputs": []
    },
    {
      "cell_type": "code",
      "metadata": {
        "id": "R5KCRydTa9Uo"
      },
      "source": [
        "from sklearn.model_selection import train_test_split\n",
        "\n",
        "# membagi dataset menjadi training dan testing\n",
        "x_train, x_test, y_train, y_test = train_test_split(x, y, test_size=0.2, random_state=1)"
      ],
      "execution_count": null,
      "outputs": []
    },
    {
      "cell_type": "code",
      "metadata": {
        "colab": {
          "base_uri": "https://localhost:8080/"
        },
        "id": "UIa0AB4w325-",
        "outputId": "8c9659cd-c665-45e7-bf7e-1d7b799173b7"
      },
      "source": [
        "# menghitung panjang/jumlah data pada masing-masing direktori split\n",
        "print(len(x))\n",
        "print(len(x_train))\n",
        "print(len(x_test))\n",
        "print(len(y_train))\n",
        "print(len(y_test))"
      ],
      "execution_count": null,
      "outputs": [
        {
          "output_type": "stream",
          "name": "stdout",
          "text": [
            "150\n",
            "120\n",
            "30\n",
            "120\n",
            "30\n"
          ]
        }
      ]
    }
  ]
}